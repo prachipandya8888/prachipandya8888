{
 "cells": [
  {
   "cell_type": "code",
   "execution_count": 14,
   "id": "204df970",
   "metadata": {},
   "outputs": [],
   "source": [
    "#create the below pattern using nested for loop in python."
   ]
  },
  {
   "cell_type": "code",
   "execution_count": 15,
   "id": "1e55d050",
   "metadata": {},
   "outputs": [],
   "source": [
    "#*\n",
    "#**\n",
    "#***\n",
    "#****\n",
    "#*****\n",
    "#****\n",
    "#***\n",
    "#**\n",
    "#*"
   ]
  },
  {
   "cell_type": "code",
   "execution_count": 18,
   "id": "478abd3e",
   "metadata": {},
   "outputs": [],
   "source": [
    "n = 5;"
   ]
  },
  {
   "cell_type": "code",
   "execution_count": 19,
   "id": "d38fd6e6",
   "metadata": {},
   "outputs": [
    {
     "name": "stdout",
     "output_type": "stream",
     "text": [
      "\n",
      "*\n",
      "**\n",
      "***\n",
      "****\n",
      "*****\n",
      "****\n",
      "***\n",
      "**\n",
      "*\n"
     ]
    }
   ],
   "source": [
    "n = 5;\n",
    "for i in range(n):\n",
    "    for j in range(i):\n",
    "        print('*', end=\"\")\n",
    "    print('')\n",
    "for i in range(n,0,-1):\n",
    "    for j in range(i):\n",
    "        print('*', end=\"\")\n",
    "    print('')"
   ]
  },
  {
   "cell_type": "code",
   "execution_count": 9,
   "id": "99b63e3a",
   "metadata": {},
   "outputs": [],
   "source": [
    "#write a reverse code"
   ]
  },
  {
   "cell_type": "code",
   "execution_count": 12,
   "id": "f0f8f401",
   "metadata": {},
   "outputs": [],
   "source": [
    "txt = \"hello Prachi Pandya\"[::-1]"
   ]
  },
  {
   "cell_type": "code",
   "execution_count": 13,
   "id": "0f80e5cb",
   "metadata": {},
   "outputs": [
    {
     "name": "stdout",
     "output_type": "stream",
     "text": [
      "aydnaP ihcarP olleh\n"
     ]
    }
   ],
   "source": [
    "print(txt)"
   ]
  }
 ],
 "metadata": {
  "kernelspec": {
   "display_name": "Python 3",
   "language": "python",
   "name": "python3"
  },
  "language_info": {
   "codemirror_mode": {
    "name": "ipython",
    "version": 3
   },
   "file_extension": ".py",
   "mimetype": "text/x-python",
   "name": "python",
   "nbconvert_exporter": "python",
   "pygments_lexer": "ipython3",
   "version": "3.8.8"
  }
 },
 "nbformat": 4,
 "nbformat_minor": 5
}
