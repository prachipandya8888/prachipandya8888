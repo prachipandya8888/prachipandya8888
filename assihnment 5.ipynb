{
 "cells": [
  {
   "cell_type": "markdown",
   "id": "340b98b7",
   "metadata": {},
   "source": [
    "# Q.1\n",
    "Write a function to compute 5/0"
   ]
  },
  {
   "cell_type": "code",
   "execution_count": 5,
   "id": "7d8d6d84",
   "metadata": {},
   "outputs": [
    {
     "name": "stdout",
     "output_type": "stream",
     "text": [
      "division by zero!\n",
      "In finally block for cleanup\n"
     ]
    }
   ],
   "source": [
    "def compute():\n",
    "    return 5/0\n",
    "try:\n",
    "    compute()\n",
    "except ZeroDivisionError:\n",
    "    print(\"division by zero!\")\n",
    "finally:\n",
    "    print('In finally block for cleanup')"
   ]
  },
  {
   "cell_type": "markdown",
   "id": "e49fc56a",
   "metadata": {},
   "source": [
    "# Q.2\n",
    "implement a python to generate sentences by using given subjects, verbs and objects."
   ]
  },
  {
   "cell_type": "code",
   "execution_count": 6,
   "id": "acc0dcc3",
   "metadata": {},
   "outputs": [
    {
     "name": "stdout",
     "output_type": "stream",
     "text": [
      "Americans play Baseball\n",
      "Americans play Cricket\n",
      "Americans watch Baseball\n",
      "Americans watch Cricket\n",
      "Indians play Baseball\n",
      "Indians play Cricket\n",
      "Indians watch Baseball\n",
      "Indians watch Cricket\n"
     ]
    }
   ],
   "source": [
    "subjects=[\"Americans\",\"Indians\"]\n",
    "verbs=[\"play\",\"watch\"]\n",
    "objects=[\"Baseball\",\"Cricket\"]\n",
    "\n",
    "#list comprehension\n",
    "sentence_list = [(sub+\" \"+vb+\" \"+obj) for sub in subjects for vb in verbs for obj in objects]\n",
    "for sentence in sentence_list:\n",
    "    print(sentence)"
   ]
  }
 ],
 "metadata": {
  "kernelspec": {
   "display_name": "Python 3",
   "language": "python",
   "name": "python3"
  },
  "language_info": {
   "codemirror_mode": {
    "name": "ipython",
    "version": 3
   },
   "file_extension": ".py",
   "mimetype": "text/x-python",
   "name": "python",
   "nbconvert_exporter": "python",
   "pygments_lexer": "ipython3",
   "version": "3.8.8"
  }
 },
 "nbformat": 4,
 "nbformat_minor": 5
}
