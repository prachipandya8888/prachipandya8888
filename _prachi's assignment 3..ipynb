{
 "cells": [
  {
   "cell_type": "markdown",
   "id": "fd21f4a7",
   "metadata": {},
   "source": [
    "# assighnment 3 \n",
    "# main Q. = write a python program to implement your own my reduce() function which works exactly like python's built in function()\n",
    "#solution\n",
    "#sum of first n natural numbers,ask used for number.\n",
    "\n"
   ]
  },
  {
   "cell_type": "markdown",
   "id": "23431722",
   "metadata": {},
   "source": [
    "# question 1.1"
   ]
  },
  {
   "cell_type": "code",
   "execution_count": null,
   "id": "c12179ce",
   "metadata": {},
   "outputs": [
    {
     "name": "stdout",
     "output_type": "stream",
     "text": [
      "Input:\n"
     ]
    }
   ],
   "source": [
    "def myreduce(num):\n",
    "    ''' This function will return sum of n Natural numbers'''\n",
    "    num_list=list(range(1,number+1))\n",
    "    sum_of_elements=0\n",
    "    \n",
    "    for i in num_list:\n",
    "        sum_of_elements+=i\n",
    "        \n",
    "    return num_list,sum_of_elements\n",
    "#Input\n",
    "print(\"Input:\")\n",
    "number=int(input(\"Please insert the number :\"))\n",
    "\n",
    "#Function Execution \n",
    "\n",
    "#output\n",
    "print(\"Output:\")\n",
    "print(\"List of First n Natural numbers are:\",Output_value[0])\n",
    "print(\"Sum of List elements are :\",Output_value[1])\n",
    "\n",
    "    "
   ]
  },
  {
   "cell_type": "code",
   "execution_count": null,
   "id": "3eb15712",
   "metadata": {},
   "outputs": [],
   "source": [
    "# Same Solution can be approched by built-in reduce() function\n",
    "print(\"Input:\")\n",
    "number =int(input(\"Please insert the number :\"))\n",
    "\n",
    "num_list= list(range(1,(number+1)))\n",
    "#Import reduce function\n",
    "from functools import reduce\n",
    "sum_of_elements = reduce((lambda x, y: x + y), num_list)\n",
    "\n",
    "#output\n",
    "print(\"output:\")\n",
    "print(\"List of First n Natural numbers are:\",num_list)\n",
    "print(\"Sum of List elements are :\",sum_of_elements)"
   ]
  },
  {
   "cell_type": "code",
   "execution_count": null,
   "id": "25cc5e6a",
   "metadata": {},
   "outputs": [],
   "source": [
    "Input:\n",
    "Please insert the number :20\n",
    "Output:\n",
    "List of first n natural numbers are: [1, 2, 3, 4, 5, 6, 7, 8, 9,10, 11, 12, 13, 14, 15, 15, 16, 17, 18, 19, 20]\n",
    "sum of List elements are : 210"
   ]
  },
  {
   "cell_type": "markdown",
   "id": "06f6392b",
   "metadata": {},
   "source": [
    "# question 1.2"
   ]
  },
  {
   "cell_type": "markdown",
   "id": "d7ecdf24",
   "metadata": {},
   "source": [
    "# 1.2 write a Python program to implement your myfilter() function which works exactlly like Python's built-in function filter()"
   ]
  },
  {
   "cell_type": "code",
   "execution_count": null,
   "id": "7c7dab40",
   "metadata": {},
   "outputs": [],
   "source": [
    "# solution\n",
    "#filter the even and odd number from list which are multiples of 5\n",
    "\n",
    "#input\n",
    "\n",
    "print(\"Input:\")\n",
    "number=int(input(\"Please inset the number:\"))\n",
    "\n",
    "num_list=list(rangte(1,number+1))\n",
    "def myfilter(num_list):\n",
    "    '''This function will filter even and odd numbers from list which are multiples of 5'''\n",
    "    num_even_list=[]\n",
    "    num_odd_list=[]\n",
    "    for i in num_list:\n",
    "        if(i%5==0):\n",
    "            if(i%2==0):\n",
    "                num_even_list.append(i)\n",
    "            else:\n",
    "                num_odd_list.append(i)\n",
    "                \n",
    "        return num_even_list,num_odd_list\n",
    "    \n",
    "#function execution\n",
    "output_value=myfilter(num_list)\n",
    "    \n",
    "    #output\n",
    "    \n",
    "print(\"output\")\n",
    "print(\"List of numbers:\",num_list)\n",
    "print(\"List of even numbers, which are multiples of 5 are\",output_value[0])\n",
    "print(\"List of odd numbers, which are multiplication of 5 are:\",output_value[1])\n",
    "\n"
   ]
  },
  {
   "cell_type": "code",
   "execution_count": null,
   "id": "cf31977b",
   "metadata": {},
   "outputs": [],
   "source": [
    "Input:\n",
    "Please insert the number: 25\n",
    "output:\n",
    "List of number: [1, 2, 3, 4, 5, 6, 7, 8, 9, 10. 11, 12, 13, 14, 15, 16,17, 18, 19, 20, 21, 22, 23, 24, 25]\n",
    "List of even numbers, which are multiples of 5 are:[10, 20]\n",
    "List of odd numbers, which are multiples of 5 are:[5, 15, 25]\n"
   ]
  },
  {
   "cell_type": "code",
   "execution_count": null,
   "id": "685f47a7",
   "metadata": {},
   "outputs": [],
   "source": [
    "#same solution can be approched by built-in filter() function\n"
   ]
  },
  {
   "cell_type": "code",
   "execution_count": null,
   "id": "9039fe66",
   "metadata": {},
   "outputs": [],
   "source": [
    "#Input\n",
    "\n",
    "print(\"Input:\")\n",
    "\n",
    "number=list(input(\"Pleprint(\"Input:\")ase insert the number:\"))\n",
    "\n",
    "num_list=list(range(1,number+1))\n",
    "\n",
    "num_even_list=list(filter(lambda x: x%2==0,list(filter(lambda x: x%5==0,num_list))))\n",
    "num_odd_list= list(filter(lambda x: x%2!=0,list(filter(lambda x: x%5==0,num_list))))\n",
    "\n",
    "print(\"Output\")\n",
    "\n",
    "print(\"List of numbers:\",num_list)\n",
    "\n",
    "print(\"List of Even Numbers, which are multiples of 5 are:\",num_even_list)\n",
    "\n",
    "print(\"List of odd numberes, which are multiples of 5 are:\",num_odd_list)"
   ]
  },
  {
   "cell_type": "code",
   "execution_count": null,
   "id": "d6ad1b1d",
   "metadata": {},
   "outputs": [],
   "source": [
    "Input:\n",
    "Please insert the number: 25\n",
    "output:\n",
    "List of number: [1, 2, 3, 4, 5, 6, 7, 8, 9, 10. 11, 12, 13, 14, 15, 16,17, 18, 19, 20, 21, 22, 23, 24, 25]\n",
    "List of even numbers, which are multiples of 5 are:[10, 20]\n",
    "List of odd numbers, which are multiples of 5 are:[5, 15, 25]"
   ]
  },
  {
   "cell_type": "code",
   "execution_count": null,
   "id": "0557bb5c",
   "metadata": {},
   "outputs": [],
   "source": [
    "Creating myreduce() function"
   ]
  },
  {
   "cell_type": "code",
   "execution_count": null,
   "id": "b8f48e52",
   "metadata": {},
   "outputs": [],
   "source": [
    "# Method I \n",
    "from functools import reduce\n",
    "def sum(a,b):\n",
    "    return a+b\n",
    "list_1=[10,15,25,10,40)\n",
    "reduce(sum,list_1)\n",
    "[out]>> 100"
   ]
  },
  {
   "cell_type": "code",
   "execution_count": null,
   "id": "63a768bc",
   "metadata": {},
   "outputs": [],
   "source": [
    "# Method II\n",
    "from functools import reduce\n",
    "list_1=[10,15,25,10,40]\n",
    "reduce(lambda a,b :a+b,list_1)\n",
    "[out]>>100"
   ]
  },
  {
   "cell_type": "code",
   "execution_count": null,
   "id": "aa885942",
   "metadata": {},
   "outputs": [],
   "source": [
    "def myreduce(add,list_1):\n",
    "    return a\n",
    "def add(a,b):\n",
    "    return a+b\n",
    "list_1=[10,15,25,40,10]\n",
    "a=list_1[0]\n",
    "for i in range(1,len(list_1)):\n",
    "    b=list_1[i]\n",
    "    a=add(a,b)\n",
    "print(myreduce(add,list_1))\n",
    "[out]>> 100"
   ]
  },
  {
   "cell_type": "code",
   "execution_count": null,
   "id": "364e7e13",
   "metadata": {},
   "outputs": [],
   "source": [
    "Creating myfilter() function"
   ]
  },
  {
   "cell_type": "code",
   "execution_count": null,
   "id": "3de5366c",
   "metadata": {},
   "outputs": [],
   "source": [
    "def is_even(a):\n",
    "    if a%2==0:\n",
    "        return True\n",
    "list_1=[2,3,4,5,6,7,8,9,12345,5678,890,1234,567]\n",
    "list(filter(is_even,list_1))\n",
    "[out]>> [2, 4, 6, 8, 5678, 890, 1234]"
   ]
  },
  {
   "cell_type": "code",
   "execution_count": null,
   "id": "c108a9aa",
   "metadata": {},
   "outputs": [],
   "source": [
    "ef myfilter(is_even,list_2):\n",
    "    return is_even(a)\n",
    "list_2=[2,3,4,5,6,7,8,9,10]\n",
    "list_3=[]\n",
    "def is_even(a):\n",
    "    for i in list_2:\n",
    "        if i%2==0:\n",
    "            list_3.append(i)\n",
    "    print(list_3)\n",
    "myfilter(is_even,list_2)\n",
    "[out]>> [2, 4, 6, 8, 10]"
   ]
  },
  {
   "cell_type": "code",
   "execution_count": null,
   "id": "8e9d1449",
   "metadata": {},
   "outputs": [],
   "source": [
    "#lets take a list containing x, y and z:\n",
    "l =['x', 'y', 'z']\n",
    "\n",
    "#creating a list:\n",
    "#First list:\n",
    "[i*j for j in range(1,5) for i in l]"
   ]
  },
  {
   "cell_type": "code",
   "execution_count": null,
   "id": "c72da556",
   "metadata": {},
   "outputs": [],
   "source": [
    "#second list\n",
    "[i*j for i in l for j in range(1,5)]"
   ]
  },
  {
   "cell_type": "code",
   "execution_count": null,
   "id": "1d1df797",
   "metadata": {},
   "outputs": [],
   "source": [
    "#third list:\n",
    "[[i+j] for i in range (2,5) for j in range(3)]"
   ]
  },
  {
   "cell_type": "code",
   "execution_count": null,
   "id": "72de63da",
   "metadata": {},
   "outputs": [],
   "source": [
    "#forth list\n",
    "\n",
    "[[i+j] for i in range (1,5) for j in range(1,5)]"
   ]
  },
  {
   "cell_type": "markdown",
   "id": "9e3fab38",
   "metadata": {},
   "source": [
    "# task 1:"
   ]
  },
  {
   "cell_type": "markdown",
   "id": "d2d7bbcf",
   "metadata": {},
   "source": [
    "# 1. write a function to compute 5/0 and use try/except to catch the exceptions."
   ]
  },
  {
   "cell_type": "code",
   "execution_count": null,
   "id": "23952d36",
   "metadata": {},
   "outputs": [],
   "source": [
    "def dev_zero():\n",
    "    return 5/0\n",
    "\n",
    "try:\n",
    "    dev_zero()\n",
    "    \n",
    "except ZeroDivisionError as e:\n",
    "    print (\"Run-time 'div by 0' error : \", e)"
   ]
  }
 ],
 "metadata": {
  "kernelspec": {
   "display_name": "Python 3",
   "language": "python",
   "name": "python3"
  },
  "language_info": {
   "codemirror_mode": {
    "name": "ipython",
    "version": 3
   },
   "file_extension": ".py",
   "mimetype": "text/x-python",
   "name": "python",
   "nbconvert_exporter": "python",
   "pygments_lexer": "ipython3",
   "version": "3.8.8"
  },
  "widgets": {
   "application/vnd.jupyter.widget-state+json": {
    "state": {},
    "version_major": 2,
    "version_minor": 0
   }
  }
 },
 "nbformat": 4,
 "nbformat_minor": 5
}
