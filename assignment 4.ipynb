{
 "cells": [
  {
   "cell_type": "markdown",
   "id": "e14e10e7",
   "metadata": {},
   "source": [
    "# 1.1 write a pyton programe(with concepts) to find the area of triangle using the below formula.\n",
    "area = (s*(s-a)*(s-b)*(s-c))** 0.5"
   ]
  },
  {
   "cell_type": "code",
   "execution_count": null,
   "id": "64f71e8f",
   "metadata": {},
   "outputs": [],
   "source": [
    "if a, b, c are the three sides of a triangle then,\n",
    "s = (a+b+c)/2"
   ]
  },
  {
   "cell_type": "code",
   "execution_count": 1,
   "id": "c7fa348f",
   "metadata": {},
   "outputs": [
    {
     "name": "stdout",
     "output_type": "stream",
     "text": [
      "The area of the triangle is 14.70\n"
     ]
    }
   ],
   "source": [
    "# Python Program to find the area of triangle\n",
    "\n",
    "a = 5\n",
    "b = 6\n",
    "c = 7\n",
    "\n",
    "# Uncomment below to take inputs from the user\n",
    "# a = float(input('Enter first side: '))\n",
    "# b = float(input('Enter second side: '))\n",
    "# c = float(input('Enter third side: '))\n",
    "\n",
    "# calculate the semi-perimeter\n",
    "s = (a + b + c) / 2\n",
    "\n",
    "# calculate the area\n",
    "area = (s*(s-a)*(s-b)*(s-c)) ** 0.5\n",
    "print('The area of the triangle is %0.2f' %area)"
   ]
  },
  {
   "cell_type": "code",
   "execution_count": 3,
   "id": "a30ba342",
   "metadata": {},
   "outputs": [
    {
     "name": "stdout",
     "output_type": "stream",
     "text": [
      "The area of the triangle is 6.00\n"
     ]
    }
   ],
   "source": [
    "# python program to find the area of triangle\n",
    "\n",
    "a = 3\n",
    "b = 4\n",
    "c = 5\n",
    "\n",
    "#uncomment below to take inputs from the user\n",
    "#a = float(input('Enter first side: '))\n",
    "#b = float(input('Enter second side:'))\n",
    "#c = float(input('Enter third side:'))\n",
    "\n",
    "#calculate the semi-perimeter\n",
    "s = (a+b+c)/2\n",
    "\n",
    "#calculate the area\n",
    "area = (s*(s-a)*(s-b)*(s-c))**0.5\n",
    "print('The area of the triangle is %0.2f' %area)\n"
   ]
  },
  {
   "cell_type": "markdown",
   "id": "b0b62489",
   "metadata": {},
   "source": [
    "# 1.2 write a function filter_long_words() that takes a list of words and an integer n and returns the list of words that are longer than n.\n"
   ]
  },
  {
   "cell_type": "code",
   "execution_count": 5,
   "id": "56d75e33",
   "metadata": {},
   "outputs": [
    {
     "name": "stdout",
     "output_type": "stream",
     "text": [
      "The word with the longest length is: seventh  and length is  7\n"
     ]
    }
   ],
   "source": [
    "# function to find the longest\n",
    "# length in the list\n",
    "def longestLength(a):\n",
    "\tmax1 = len(a[0])\n",
    "\ttemp = a[0]\n",
    "\n",
    "\t# for loop to traverse the list\n",
    "\tfor i in a:\n",
    "\t\tif(len(i) > max1):\n",
    "\n",
    "\t\t\tmax1 = len(i)\n",
    "\t\t\ttemp = i\n",
    "\n",
    "\tprint(\"The word with the longest length is:\", temp,\n",
    "\t\t\" and length is \", max1)\n",
    "\n",
    "\n",
    "# Driver Program\n",
    "a = [\"one\", \"two\", \"seventh\", \"four\"]\n",
    "longestLength(a)\n"
   ]
  },
  {
   "cell_type": "markdown",
   "id": "a86b1ad3",
   "metadata": {},
   "source": [
    "# 2.1 "
   ]
  },
  {
   "cell_type": "code",
   "execution_count": 6,
   "id": "d591cc79",
   "metadata": {},
   "outputs": [
    {
     "name": "stdout",
     "output_type": "stream",
     "text": [
      "The word with the longest length is: relevence  and length is  9\n"
     ]
    }
   ],
   "source": [
    "# function to find the longest length in the list\n",
    "def longestLength(words):\n",
    "\tfinalList = []\n",
    "\t\n",
    "\tfor word in words:\n",
    "\t\tfinalList.append((len(word), word))\n",
    "\t\n",
    "\tfinalList.sort()\n",
    "\t\n",
    "\tprint(\"The word with the longest length is:\", finalList[-1][1],\n",
    "\t\t\" and length is \", len(finalList[-1][1]))\n",
    "\n",
    "\n",
    "# Driver Program\n",
    "a = [\"sweta\", \"two\", \"prachu\", \"relevence\",\"eight\"]\n",
    "longestLength(a)\n"
   ]
  },
  {
   "cell_type": "markdown",
   "id": "8b9b513f",
   "metadata": {},
   "source": [
    "# 2.2 write a python function which takes a character(i.e string of a length 1) and returns true if it is a vowel,false otherwise."
   ]
  },
  {
   "cell_type": "code",
   "execution_count": null,
   "id": "c1e578c8",
   "metadata": {},
   "outputs": [],
   "source": []
  }
 ],
 "metadata": {
  "kernelspec": {
   "display_name": "Python 3",
   "language": "python",
   "name": "python3"
  },
  "language_info": {
   "codemirror_mode": {
    "name": "ipython",
    "version": 3
   },
   "file_extension": ".py",
   "mimetype": "text/x-python",
   "name": "python",
   "nbconvert_exporter": "python",
   "pygments_lexer": "ipython3",
   "version": "3.8.8"
  }
 },
 "nbformat": 4,
 "nbformat_minor": 5
}
